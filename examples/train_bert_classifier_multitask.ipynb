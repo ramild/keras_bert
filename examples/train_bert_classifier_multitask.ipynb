{
 "cells": [
  {
   "cell_type": "code",
   "execution_count": 1,
   "metadata": {},
   "outputs": [
    {
     "name": "stdout",
     "output_type": "stream",
     "text": [
      "Better speed can be achieved with apex installed from https://www.github.com/nvidia/apex.\n"
     ]
    }
   ],
   "source": [
    "import sys\n",
    "%load_ext autoreload\n",
    "%autoreload 2\n",
    "sys.path.append('..')\n",
    "sys.path.append('../lib/')\n",
    "\n",
    "import os\n",
    "import numpy as np\n",
    "import pandas as pd\n",
    "from sklearn.model_selection import train_test_split\n",
    "import torch\n",
    "from lib import bert_model"
   ]
  },
  {
   "cell_type": "code",
   "execution_count": 2,
   "metadata": {},
   "outputs": [
    {
     "name": "stdout",
     "output_type": "stream",
     "text": [
      "env: CUDA_VISIBLE_DEVICES=1\n"
     ]
    }
   ],
   "source": [
    "%env CUDA_VISIBLE_DEVICES=1\n",
    "\n",
    "TASKS_NUM_LABELS = [4, 358]\n",
    "\n",
    "params = {\n",
    "    'num_labels': TASKS_NUM_LABELS,\n",
    "    'label_list': [[str(label) for label in range(num_labels)]\n",
    "                   for num_labels in TASKS_NUM_LABELS],\n",
    "    'output_dir': '../output',\n",
    "    'cache_dir': '../model_cache',\n",
    "    'bert_model': 'bert-base-multilingual-uncased',\n",
    "    'max_seq_length': 128,\n",
    "    'train_batch_size': 32,\n",
    "    'eval_batch_size': 8,\n",
    "    'learning_rate': 2e-5,\n",
    "    'warmup_proportion': 0.1,\n",
    "    'num_train_epochs': 2,\n",
    "    'seed': 1331,\n",
    "    'device': torch.device(\n",
    "        'cuda' if torch.cuda.is_available()\n",
    "        else 'cpu')\n",
    "}\n",
    "\n",
    "params['lower_case'] = (params['bert_model'][-7:] == 'uncased')"
   ]
  },
  {
   "cell_type": "markdown",
   "metadata": {},
   "source": [
    "## Preparing data"
   ]
  },
  {
   "cell_type": "code",
   "execution_count": null,
   "metadata": {},
   "outputs": [],
   "source": [
    "DATA_DIR = '../datasets'\n",
    "RANDOM_STATE = 3773\n",
    "\n",
    "first_df = pd.read_csv(\n",
    "    os.path.join(DATA_DIR, 'data/df_first.csv'),\n",
    "    encoding='utf-8',\n",
    ")\n",
    "\n",
    "first_df_train_valid, first_df_test = train_test_split(\n",
    "    first_first_df,\n",
    "    test_size=0.15,\n",
    "    random_state=RANDOM_STATE,\n",
    ")\n",
    "first_df_train, first_df_valid = train_test_split(\n",
    "    first_df_train_valid,\n",
    "    test_size=0.15,\n",
    "    random_state=RANDOM_STATE,\n",
    ")"
   ]
  },
  {
   "cell_type": "code",
   "execution_count": null,
   "metadata": {},
   "outputs": [],
   "source": [
    "second_df_train = pd.read_csv(\n",
    "    os.path.join(DATA_DIR, 'data/second_train.csv'),\n",
    "    encoding='utf-8',\n",
    ")\n",
    "second_df_valid = pd.read_csv(\n",
    "    os.path.join(DATA_DIR, 'data/second_dev.csv'),\n",
    "    encoding='utf-8',\n",
    ")\n",
    "second_df_test = pd.read_csv(\n",
    "    os.path.join(DATA_DIR, 'data/second_test.csv'),\n",
    "    encoding='utf-8',\n",
    ")"
   ]
  },
  {
   "cell_type": "code",
   "execution_count": 5,
   "metadata": {},
   "outputs": [
    {
     "name": "stdout",
     "output_type": "stream",
     "text": [
      "Train sizes:\n",
      "4330 104724\n",
      "Total size: 109054\n",
      "\n",
      "\n",
      "Valid sizes:\n",
      "765 26182\n",
      "Total size: 26947\n",
      "\n",
      "\n",
      "Test sizes:\n",
      "900 32727\n",
      "Total size: 33627\n",
      "\n"
     ]
    }
   ],
   "source": [
    "X_train = [\n",
    "    first_df_train['text'].values,\n",
    "    second_df_train['text'].values,\n",
    "]\n",
    "y_train = [\n",
    "    first_df_train['label_index'].values,\n",
    "    second_df_train['label_index'].values,\n",
    "]\n",
    "\n",
    "X_valid = [\n",
    "    first_df_valid['text'].values,\n",
    "    second_df_valid['text'].values,\n",
    "]\n",
    "y_valid = [\n",
    "    first_df_valid['label_index'].values,\n",
    "    second_df_valid['label_index'].values,\n",
    "]\n",
    "\n",
    "X_test = [\n",
    "    first_df_test['text'].values,\n",
    "    second_df_test['text'].values,\n",
    "]\n",
    "y_test = [\n",
    "    first_df_test['label_index'].values,\n",
    "    second_df_test['label_index'].values,\n",
    "]\n",
    "\n",
    "print('Train sizes:')\n",
    "print(' '.join([str(len(X_data)) for X_data in X_train]))\n",
    "total_size = sum(([len(X_data) for X_data in X_train]))\n",
    "print('Total size: {}\\n'.format(total_size))\n",
    "\n",
    "print('\\nValid sizes:')\n",
    "print(' '.join([str(len(X_data)) for X_data in X_valid]))\n",
    "total_size = sum(([len(X_data) for X_data in X_valid]))\n",
    "print('Total size: {}\\n'.format(total_size))\n",
    "\n",
    "print('\\nTest sizes:')\n",
    "print(' '.join([str(len(X_data)) for X_data in X_test]))\n",
    "total_size = sum(([len(X_data) for X_data in X_test]))\n",
    "print('Total size: {}\\n'.format(total_size))"
   ]
  },
  {
   "cell_type": "markdown",
   "metadata": {},
   "source": [
    "## Training BERT model"
   ]
  },
  {
   "cell_type": "code",
   "execution_count": 6,
   "metadata": {},
   "outputs": [
    {
     "name": "stdout",
     "output_type": "stream",
     "text": [
      "Downloading BERT...\n",
      "Completed!\n"
     ]
    }
   ],
   "source": [
    "model = bert_model.BertMultiTaskTextClassificationModel(params)"
   ]
  },
  {
   "cell_type": "code",
   "execution_count": 16,
   "metadata": {},
   "outputs": [
    {
     "name": "stdout",
     "output_type": "stream",
     "text": [
      "\n",
      "Epoch: 1\n"
     ]
    },
    {
     "name": "stderr",
     "output_type": "stream",
     "text": [
      "Iteration: 100%|██████████| 3408/3408 [27:21<00:00,  2.08it/s]\n"
     ]
    },
    {
     "name": "stdout",
     "output_type": "stream",
     "text": [
      "***** Running evaluation *****\n"
     ]
    },
    {
     "name": "stderr",
     "output_type": "stream",
     "text": [
      "Predicting: 100%|██████████| 3369/3369 [02:19<00:00, 25.53it/s]\n"
     ]
    },
    {
     "name": "stdout",
     "output_type": "stream",
     "text": [
      "{'train_log_loss': 0.9166813825777439, 'eval_log_loss': [0.33383396507679863, 1.7398296592794598], 'eval_accuracy': [0.9098039215686274, 0.6221831792834772]}\n",
      "\n",
      "Epoch: 2\n"
     ]
    },
    {
     "name": "stderr",
     "output_type": "stream",
     "text": [
      "Iteration: 100%|██████████| 3408/3408 [27:29<00:00,  2.05it/s]\n"
     ]
    },
    {
     "name": "stdout",
     "output_type": "stream",
     "text": [
      "***** Running evaluation *****\n"
     ]
    },
    {
     "name": "stderr",
     "output_type": "stream",
     "text": [
      "Predicting: 100%|██████████| 3369/3369 [02:10<00:00, 25.83it/s]\n"
     ]
    },
    {
     "name": "stdout",
     "output_type": "stream",
     "text": [
      "{'train_log_loss': 0.731878307538693, 'eval_log_loss': [0.369583423649021, 1.7333664538607485], 'eval_accuracy': [0.9006535947712418, 0.6234435871973111]}\n",
      "\n",
      "Epoch: 3\n"
     ]
    },
    {
     "name": "stderr",
     "output_type": "stream",
     "text": [
      "Iteration: 100%|██████████| 3408/3408 [27:42<00:00,  2.07it/s]\n"
     ]
    },
    {
     "name": "stdout",
     "output_type": "stream",
     "text": [
      "***** Running evaluation *****\n"
     ]
    },
    {
     "name": "stderr",
     "output_type": "stream",
     "text": [
      "Predicting: 100%|██████████| 3369/3369 [02:11<00:00, 25.61it/s]\n"
     ]
    },
    {
     "name": "stdout",
     "output_type": "stream",
     "text": [
      "{'train_log_loss': 0.594994216180131, 'eval_log_loss': [0.411381732010122, 1.777980334077954], 'eval_accuracy': [0.8875816993464052, 0.6185547322588038]}\n",
      "\n",
      "Epoch: 4\n"
     ]
    },
    {
     "name": "stderr",
     "output_type": "stream",
     "text": [
      "Iteration: 100%|██████████| 3408/3408 [27:03<00:00,  2.17it/s]\n"
     ]
    },
    {
     "name": "stdout",
     "output_type": "stream",
     "text": [
      "***** Running evaluation *****\n"
     ]
    },
    {
     "name": "stderr",
     "output_type": "stream",
     "text": [
      "Predicting: 100%|██████████| 3369/3369 [02:11<00:00, 25.66it/s]\n"
     ]
    },
    {
     "name": "stdout",
     "output_type": "stream",
     "text": [
      "{'train_log_loss': 0.4927876612735571, 'eval_log_loss': [0.4012502431896138, 1.8505008661895659], 'eval_accuracy': [0.8928104575163399, 0.6133985180658468]}\n"
     ]
    },
    {
     "data": {
      "text/plain": [
       "{'train_log_loss': 0.9166813825777439,\n",
       " 'eval_log_loss': [0.33383396507679863, 1.7398296592794598],\n",
       " 'eval_accuracy': [0.9098039215686274, 0.6221831792834772],\n",
       " 'best_epoch': 1,\n",
       " 'model_filepath': '../output/model_multitask.pth'}"
      ]
     },
     "execution_count": 16,
     "metadata": {},
     "output_type": "execute_result"
    }
   ],
   "source": [
    "result = model.fit(\n",
    "    X_train,\n",
    "    y_train,\n",
    "    batch_size=32,\n",
    "    n_epochs=4,\n",
    "    validation_data=(X_valid, y_valid),\n",
    "    best_model_output='model_multitask.pth',\n",
    ")\n",
    "result"
   ]
  },
  {
   "cell_type": "code",
   "execution_count": null,
   "metadata": {},
   "outputs": [],
   "source": []
  }
 ],
 "metadata": {
  "kernelspec": {
   "display_name": "Python 3",
   "language": "python",
   "name": "python3"
  },
  "language_info": {
   "codemirror_mode": {
    "name": "ipython",
    "version": 3
   },
   "file_extension": ".py",
   "mimetype": "text/x-python",
   "name": "python",
   "nbconvert_exporter": "python",
   "pygments_lexer": "ipython3",
   "version": "3.9.4"
  }
 },
 "nbformat": 4,
 "nbformat_minor": 4
}
