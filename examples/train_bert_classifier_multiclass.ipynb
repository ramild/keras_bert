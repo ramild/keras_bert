{
 "cells": [
  {
   "cell_type": "code",
   "execution_count": 1,
   "metadata": {},
   "outputs": [
    {
     "name": "stdout",
     "output_type": "stream",
     "text": [
      "Better speed can be achieved with apex installed from https://www.github.com/nvidia/apex.\n"
     ]
    }
   ],
   "source": [
    "import sys\n",
    "%load_ext autoreload\n",
    "%autoreload 2\n",
    "sys.path.append('..')\n",
    "sys.path.append('../keras_bert/')\n",
    "\n",
    "import os\n",
    "import numpy as np\n",
    "import pandas as pd\n",
    "from sklearn.model_selection import train_test_split\n",
    "import torch\n",
    "from keras_bert import bert_model"
   ]
  },
  {
   "cell_type": "code",
   "execution_count": 2,
   "metadata": {},
   "outputs": [
    {
     "name": "stdout",
     "output_type": "stream",
     "text": [
      "env: CUDA_VISIBLE_DEVICES=1\n"
     ]
    }
   ],
   "source": [
    "%env CUDA_VISIBLE_DEVICES=1\n",
    "\n",
    "NUM_LABELS = 358\n",
    "\n",
    "params = {\n",
    "    'num_labels': NUM_LABELS,\n",
    "    'label_list': [str(label) for label in range(NUM_LABELS)],\n",
    "    'output_dir': '../output',\n",
    "    'cache_dir': '../model_cache',\n",
    "    'bert_model': 'bert-base-multilingual-uncased',\n",
    "    'max_seq_length': 128,\n",
    "    'train_batch_size': 32,\n",
    "    'eval_batch_size': 8,\n",
    "    'learning_rate': 2e-5,\n",
    "    'warmup_proportion': 0.1,\n",
    "    'num_train_epochs': 2,\n",
    "    'seed': 1331,\n",
    "    'device': torch.device(\n",
    "        'cuda' if torch.cuda.is_available()\n",
    "        else 'cpu')\n",
    "}\n",
    "\n",
    "params['lower_case'] = (params['bert_model'][-7:] == 'uncased')"
   ]
  },
  {
   "cell_type": "markdown",
   "metadata": {},
   "source": [
    "## Preparing data"
   ]
  },
  {
   "cell_type": "code",
   "execution_count": null,
   "metadata": {},
   "outputs": [],
   "source": [
    "DATA_DIR = '../datasets'\n",
    "\n",
    "df_train = pd.read_csv(\n",
    "    os.path.join(DATA_DIR, 'data/train.csv'),\n",
    "    encoding='utf-8',\n",
    ")\n",
    "df_valid = pd.read_csv(\n",
    "    os.path.join(DATA_DIR, 'data/dev.csv'),\n",
    "    encoding='utf-8',\n",
    ")\n",
    "df_test = pd.read_csv(\n",
    "    os.path.join(DATA_DIR, 'data/test.csv'),\n",
    "    encoding='utf-8',\n",
    ")\n",
    "\n",
    "X_train, y_train = (\n",
    "    df_train['text'].values,\n",
    "    df_train['label_index'].values\n",
    ")\n",
    "X_valid, y_valid = (\n",
    "    df_valid['text'].values,\n",
    "    df_valid['label_index'].values\n",
    ")\n",
    "X_test, y_test = (\n",
    "    df_test['text'].values,\n",
    "    df_test['label_index'].values\n",
    ")"
   ]
  },
  {
   "cell_type": "markdown",
   "metadata": {},
   "source": [
    "## Training BERT model"
   ]
  },
  {
   "cell_type": "code",
   "execution_count": 4,
   "metadata": {},
   "outputs": [
    {
     "name": "stdout",
     "output_type": "stream",
     "text": [
      "Downloading BERT...\n",
      "Completed!\n"
     ]
    }
   ],
   "source": [
    "model = bert_model.BertTextClassificationModel(params)"
   ]
  },
  {
   "cell_type": "code",
   "execution_count": 5,
   "metadata": {
    "tags": []
   },
   "outputs": [
    {
     "name": "stdout",
     "output_type": "stream",
     "text": [
      "\n",
      "Epoch: 1\n"
     ]
    },
    {
     "name": "stderr",
     "output_type": "stream",
     "text": [
      "Iteration: 100%|██████████| 3273/3273 [27:45<00:00,  1.84it/s]\n"
     ]
    },
    {
     "name": "stdout",
     "output_type": "stream",
     "text": [
      "***** Running evaluation *****\n"
     ]
    },
    {
     "name": "stderr",
     "output_type": "stream",
     "text": [
      "Predicting: 100%|██████████| 3273/3273 [02:30<00:00, 21.73it/s]\n"
     ]
    },
    {
     "name": "stdout",
     "output_type": "stream",
     "text": [
      "{'train_log_loss': 2.225291140011025, 'eval_log_loss': 1.7633123544695246, 'eval_accuracy': 0.5897181269574517}\n"
     ]
    },
    {
     "data": {
      "text/plain": [
       "{'train_log_loss': 2.225291140011025,\n",
       " 'eval_log_loss': 1.7633123544695246,\n",
       " 'eval_accuracy': 0.5897181269574517,\n",
       " 'best_epoch': 1,\n",
       " 'model_filepath': '../output/model_saved.pth'}"
      ]
     },
     "execution_count": 5,
     "metadata": {},
     "output_type": "execute_result"
    }
   ],
   "source": [
    "result = model.fit(\n",
    "    X_train,\n",
    "    y_train,\n",
    "    batch_size=32,\n",
    "    n_epochs=1,\n",
    "    validation_data=(X_valid, y_valid),\n",
    "    best_model_output='model_saved.pth'\n",
    ")\n",
    "result"
   ]
  },
  {
   "cell_type": "markdown",
   "metadata": {},
   "source": [
    "## Evaluating the model"
   ]
  },
  {
   "cell_type": "code",
   "execution_count": 6,
   "metadata": {},
   "outputs": [],
   "source": [
    "from lib import metrics"
   ]
  },
  {
   "cell_type": "code",
   "execution_count": 7,
   "metadata": {},
   "outputs": [
    {
     "name": "stderr",
     "output_type": "stream",
     "text": [
      "Predicting: 100%|██████████| 4365/4365 [02:48<00:00, 26.76it/s]\n"
     ]
    }
   ],
   "source": [
    "model.load(result['model_filepath'])\n",
    "\n",
    "test_preds = model.predict(X_test)\n",
    "y_pred = np.array(\n",
    "    [np.argmax(probs) for i, probs in enumerate(test_preds)]\n",
    ")"
   ]
  },
  {
   "cell_type": "code",
   "execution_count": null,
   "metadata": {},
   "outputs": [],
   "source": [
    "print('Accuracy:  {}'.format(metrics.accuracy(y_test, test_preds)))\n",
    "print('F1-micro:  {}'.format(metrics.f1_micro(y_test, test_preds)))\n",
    "print('F1-macro:  {}'.format(metrics.f1_macro(y_test, test_preds)))\n",
    "print('AUC-micro: {}'.format(metrics.auc_micro(y_test, test_preds)))\n",
    "print('AUC-macro: {}'.format(metrics.auc_macro(y_test, test_preds)))\n",
    "print()\n",
    "for label in range(params['num_labels']):\n",
    "    print('Label:', label)\n",
    "    print('precision:', metrics.precision(y_test, test_preds, label))\n",
    "    print('recall:   ', metrics.recall(y_test, test_preds, label))\n",
    "    print()"
   ]
  },
  {
   "cell_type": "code",
   "execution_count": null,
   "metadata": {},
   "outputs": [],
   "source": []
  }
 ],
 "metadata": {
  "kernelspec": {
   "display_name": "Python 3",
   "language": "python",
   "name": "python3"
  },
  "language_info": {
   "codemirror_mode": {
    "name": "ipython",
    "version": 3
   },
   "file_extension": ".py",
   "mimetype": "text/x-python",
   "name": "python",
   "nbconvert_exporter": "python",
   "pygments_lexer": "ipython3",
   "version": "3.9.4"
  }
 },
 "nbformat": 4,
 "nbformat_minor": 4
}
